{
 "cells": [
  {
   "cell_type": "markdown",
   "metadata": {},
   "source": [
    "# Meilenstein 3: die Simulation\n",
    "\n",
    "In diesem Abschnitt simulierst du die Wurfbewegung. Hier nutzt du das Modell, das wir dir in dem Erklärvideo vorgestellt haben. In dieser Kurzversion \"ModellBildung im Flug\" musst du das Modell nicht selber in Rechenvorschriften umsetzen, sondern das ist für dich bereits fertig vorbereitet. \n",
    "\n",
    "Mit der folgenden Simulation nutzen wir also das Modell aus dem Erklärvideo, in dem das von dir geworfene Objekt nur ein Punkt ist, der sich ohne Luftreibung durch den Raum bewegt. Gib hierunter die Schätzwerte für die Anfangswerte von Ort und Geschwindigkeit in x- und y-Richtung ein, die neben dem Modell die Simulation festlegen. Falls du gerade ein wiederholtes Mal eine Simulation ausführst, erhöhe den Wert von \"Nr\", um deine früheren Ergebnisse nicht zu überschreiben. Führe dann die Zelle aus, um die Simulation zu starten. "
   ]
  },
  {
   "cell_type": "code",
   "execution_count": null,
   "metadata": {},
   "outputs": [],
   "source": [
    "# Führe zuerst  diese Zelle aus, um die Werte aus der Videoanalyse zu laden.\n",
    "from educhallenge_vX5 import * \n",
    "x, y, zeitpunkte, B, H, b, h, fps, delta_t, N_Punkte, N_Bilder, x_0, y_0, v_x0, v_y0 = werte_wiederherstellen()"
   ]
  },
  {
   "cell_type": "code",
   "execution_count": null,
   "metadata": {},
   "outputs": [],
   "source": [
    "# Trage hier nun die Anfangswerte ein, mit der du die Simulation durchführen möchtest. \n",
    "# Zunächst kannst du dazu die geschätzten Anfangswerte aus der Videoanalyse nehmen. \n",
    "# Später kannst du sie auch ändern, um deine Simulation ggf. besser an deine beobachteten Daten anzupassen. \n",
    "\n",
    "x_0  = 0.14 # Ort des Balls in x-Richtung am Anfang, Einheit: m\n",
    "y_0  = 0.24 # Ort des Balls in y-Richtung am Anfang, Einheit: m\n",
    "v_x0 = 3.00 # Geschwindigkeit des Balls in x-Richtung am Anfang, Einheit: m/s\n",
    "v_y0 = 2.95 # Geschwindigkeit des Balls in y-Richtung am Anfang, Einheit: m/s\n",
    "\n",
    "a_x0 = 0\n",
    "a_y0 = -9.81\n",
    "\n",
    "Nr = 1\n",
    "\n",
    "df_sim = simulation_ausführen(x_0, y_0, v_x0, v_y0, fps, N_Punkte, Nr)"
   ]
  },
  {
   "cell_type": "markdown",
   "metadata": {},
   "source": [
    "Nun geht es zur eigentlichen numerische Simulation. Dabei werden in jeder Runde die Werte für Ort (`x`, `y`), Geschwindigkeit (`v_x`, `v_y`) und Beschleunigung (`a_x`, `a_y`) nach den von dir eingetragenen Spielregeln berechnet. \n",
    "\n",
    "Trage dazu nun an der markierten Stelle die Spielregeln ein, die du bereits im Laborbuch erarbeitet hast."
   ]
  },
  {
   "cell_type": "code",
   "execution_count": null,
   "metadata": {},
   "outputs": [],
   "source": [
    "for r in range(1, N, 1): # Diese Schleife läuft über alle \"Runden\" der Simulation\n",
    "    \n",
    "    # Einlesen der \"alten\" Werte (aus der vorherigen Runde) aus der Tabelle:\n",
    "    a_x_alt, v_x_alt, x_alt, a_y_alt, v_y_alt, y_alt = a_x_array[r-1], v_x_array[r-1], x_array[r-1], a_y_array[r-1], v_y_array[r-1], y_array[r-1]\n",
    "    \n",
    "    # Der Spielzug, in dem wie Werte der neuen Runde nach den Spielregeln berechnet werden:\n",
    "    ##### ***Trage in den nächsten Zeilen die Spielregeln für die Simulation einer Wurfbewegung ein.*** #####\n",
    "    a_x_neu = \n",
    "    v_x_neu = \n",
    "    x_neu   = \n",
    "\n",
    "    a_y_neu = \n",
    "    v_y_neu = \n",
    "    y_neu   = \n",
    "    \n",
    "    # Und nun schreiben wir die neuen Werte in die Tabelle an der Stelle der Runde \"r\" (hier nichts ändern):\n",
    "    a_x_array[r] = a_x_neu\n",
    "    v_x_array[r] = v_x_neu\n",
    "    x_array[r]   = x_neu\n",
    "    \n",
    "    a_y_array[r] = a_y_neu\n",
    "    v_y_array[r] = v_y_neu\n",
    "    y_array[r]   = y_neu\n",
    "    \n",
    "# nun ist unser Spiel = unsere Simulation schon fertig! \n",
    "print(\"Die Simulation ist fertig.\")\n",
    "\n",
    "# Wir schauen uns die Werte einmal an und speichern sie gleichzeitig:\n",
    "zeige_und_speichere_simulierte_werte(a_x_array, v_x_array, x_array, a_y_array, v_y_array, y_array, Nr, Gruppenname)"
   ]
  }
 ],
 "metadata": {
  "kernelspec": {
   "display_name": "Python 3 (ipykernel)",
   "language": "python",
   "name": "python3"
  },
  "language_info": {
   "codemirror_mode": {
    "name": "ipython",
    "version": 3
   },
   "file_extension": ".py",
   "mimetype": "text/x-python",
   "name": "python",
   "nbconvert_exporter": "python",
   "pygments_lexer": "ipython3",
   "version": "3.10.9"
  }
 },
 "nbformat": 4,
 "nbformat_minor": 2
}
