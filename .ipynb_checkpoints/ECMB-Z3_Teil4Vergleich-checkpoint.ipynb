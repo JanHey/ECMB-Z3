{
 "cells": [
  {
   "cell_type": "markdown",
   "metadata": {},
   "source": [
    "# Meilenstein 7: Vergleich von Simulation und Messdaten\n",
    "\n",
    "Du hast nun Messdaten der real beobachteten Flugkurve aus dem Video. Und du hast eine Simulation der Bewegung, die auf einem Modell beruht. Ein naturwissenschaftliches Modell überprüfen wir immer an Beobachtungen. Vergleiche also nun die Ergebnisse deiner Simulation mit deiner Beobachtung! Dazu kannst du nun eine Grafik und ein Video erzeugen lassen, in denen deine beobachteten Messwerte mit den Simulationsergebnissen überlagert werden. \n",
    "\n",
    "Führe die nächsten beiden Zellen aus, um die Grafik und das Überlagerungsvideo zu erzeugen. "
   ]
  },
  {
   "cell_type": "code",
   "execution_count": null,
   "metadata": {},
   "outputs": [],
   "source": [
    "# Grafiken für Vergleich erzeugen\n",
    "from libECMB3 import *\n",
    "Nr = 1\n",
    "erzeuge_3Grafiken(Nr)"
   ]
  },
  {
   "cell_type": "code",
   "execution_count": null,
   "metadata": {},
   "outputs": [],
   "source": [
    "# Video erzeugen\n",
    "erzeuge_Ueberlagerungsvideo(Nr)"
   ]
  },
  {
   "cell_type": "markdown",
   "metadata": {},
   "source": [
    "Schaue dir die Grafik und das Video an. Wie gut beschreibt die Simulation die Beobachtung? \n",
    "\n",
    "Kehre nun zu PreCampus zurück und werte deine Ergebnisse aus. "
   ]
  }
 ],
 "metadata": {
  "kernelspec": {
   "display_name": "Python 3 (ipykernel)",
   "language": "python",
   "name": "python3"
  },
  "language_info": {
   "codemirror_mode": {
    "name": "ipython",
    "version": 3
   },
   "file_extension": ".py",
   "mimetype": "text/x-python",
   "name": "python",
   "nbconvert_exporter": "python",
   "pygments_lexer": "ipython3",
   "version": "3.10.9"
  }
 },
 "nbformat": 4,
 "nbformat_minor": 2
}
