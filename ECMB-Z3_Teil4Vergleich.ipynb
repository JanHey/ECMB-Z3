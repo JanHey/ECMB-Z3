{
 "cells": [
  {
   "cell_type": "markdown",
   "metadata": {},
   "source": [
    "# Meilenstein 4: Vergleich von Simulation und Messdaten\n",
    "\n",
    "Du hast nun Messdaten der real beobachteten Flugkurve aus dem Video. Und du hast eine Simulation der Bewegung, die auf einem Modell beruht, also auf einer Vorstellung darüber, wie die Natur funktionieren könnte. Ein naturwissenschaftliches Modell überprüfen wir immer an Beobachtungen. Vergleiche also nun die Ergebnisse deiner Simulation mit deiner Beobachtung! Dazu kannst du nun eine Grafik und ein Video erzeugen lassen, in denen deine beobachteten Messwerte mit den Simulationsergebnissen überlagert werden. \n",
    "\n",
    "Führe die nächsten beiden Zellen aus, um die Grafik und das Überlagerungsvideo zu erzeugen. "
   ]
  },
  {
   "cell_type": "code",
   "execution_count": null,
   "metadata": {},
   "outputs": [],
   "source": [
    "# Grafik erzeugen\n",
    "from libECMB3 import *\n",
    "erzeuge_Grafiken(Nr)"
   ]
  },
  {
   "cell_type": "code",
   "execution_count": null,
   "metadata": {},
   "outputs": [],
   "source": [
    "# Video erzeugen\n",
    "erzeuge_Ueberlagerungsvideo(Nr)"
   ]
  },
  {
   "cell_type": "markdown",
   "metadata": {},
   "source": [
    "Schaue dir die Grafik und das Video an. Wie gut beschreibt die Simulation die Beobachtung? \n",
    "\n",
    "Falls Simulationsergebnis und Modell nicht so gut zusammen passen, kannst du folgendes versuchen: \n",
    "- Kontrolliere deine Videoaufnahme: ist die Kamera wirklich nicht bewegt? Ist die notierte Breite des Bildausschnitts B richtig gemessen? Gibt es evtl. perspektivisiche Verzerrungen? Fallen dir andere Faktoren ein, die das Experiment beeinflusst haben könnten?\n",
    "- Überprüfe deine Simulation: an den voreingestellten Parametern der Simulation kannst du zwar in dieser Mission \"ModellBildung im Flug\" nichts ändern. Aber überprüfe deine Anfangswerte! Die Ausgabe dazu ist nur ein Schätzwert! Ändere deine Anfangswerte und schaue, ob du Anfangswerte findest, mit denen deine Simulation besonders gut zu der beobachteten Bewegung passt.\n",
    "\n",
    "Es kann aber auch sein, dass trotz allen Versuchen das Modell mit der Beobachtung in Übereinstimmung zu bringen, dies einfach nicht passt. Dies ist der spannendste Fall! Denn dann heißt es, dass du das Modell erweitern musst! \n",
    "\n",
    "Wenn du einen solchen Fall gefunden hast, nimm ab Herbst 2023 an der dritten \"EduChallenge: ModellBildung\" teil, um noch mehr über Modelle zu erfahren und dein Modell so weiterzudenken, dass es möglichst gut zu deiner Beobachtung passt!\n",
    "\n",
    "Aber zunächst: lade die letzte Grafik und das Video im Forum hoch und ergänze ein paar Notizen, was du gemacht hast und wie du die Übereinstimmung des Modells mit deiner Beobachtung bewertest. Wir sind super gespannt! Mit dem Eintrag im Forum nimmst du außerdem an unserem Gewinnspiel teil. "
   ]
  },
  {
   "cell_type": "markdown",
   "metadata": {},
   "source": [
    "# TODO: \n",
    "- 3x3 Grafiken auf A4 für Druck\n",
    "- Grafik mit den Einträgen für die Auswertung einfügen"
   ]
  },
  {
   "cell_type": "code",
   "execution_count": null,
   "metadata": {},
   "outputs": [],
   "source": []
  }
 ],
 "metadata": {
  "kernelspec": {
   "display_name": "Python 3 (ipykernel)",
   "language": "python",
   "name": "python3"
  },
  "language_info": {
   "codemirror_mode": {
    "name": "ipython",
    "version": 3
   },
   "file_extension": ".py",
   "mimetype": "text/x-python",
   "name": "python",
   "nbconvert_exporter": "python",
   "pygments_lexer": "ipython3",
   "version": "3.10.9"
  }
 },
 "nbformat": 4,
 "nbformat_minor": 2
}
