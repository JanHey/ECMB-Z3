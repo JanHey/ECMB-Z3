{
 "cells": [
  {
   "cell_type": "markdown",
   "metadata": {},
   "source": [
    "# Meilenstein 6: die Simulation (Abkürzung)\n",
    "\n",
    "In diesem Abschnitt simulierst du die Wurfbewegung. Du nutzt dazu das Modell für die Wurfbewegung, das du im Video \"Harry Potter und der schiefe Wurf\" kennengelernt hast. Die Simulation ist allerdings schon für dich vorbereitet sodass du sie nicht selbst programmieren musst - das ist die Abkürzung."
   ]
  },
  {
   "cell_type": "markdown",
   "metadata": {},
   "source": [
    "In der ersten Codezelle legst du die Rand- und Anfangswerte für deine Simulation fest. \n",
    "Ersetze dazu alle Stellen **\"[eintragen]\"** mit dem entsprechenden **Wert**, den du nach der Videoanalyse in deinem Laborbuch notiert hast.\n",
    "\n",
    "**Beispiel:**\n",
    "\n",
    "In der Zeile \n",
    "\n",
    "`g = eintragen  # Erdbeschleunigung in der Einheit  m/s^2`\n",
    "\n",
    "sollte stehen: \n",
    "    \n",
    "`g = 9.81  # Erdbeschleunigung in der Einheit  m/s^2`\n",
    "\n",
    "Falls du gerade zum ersten Mal die Simulation machst, lass den Wert `Nr = 1` einfach wie er ist. \n",
    "Falls du die Simulation erneut ausführst, erhöhe den Wert von \"Nr\" auf 2, 3, ... , um deine früheren Ergebnisse nicht zu überschreiben.\n",
    "\n",
    "**Hinweis (mögliche Zusatzaufgabe)**: \n",
    "Wenn du möchtest, kannst du hier auch erst die Anfangs- und Randwerte aus dem Beispiel eingeben, für das du Werte von Hand berechnet hast. Dann wird in der nächsten Codezelle der von dir im Beispiel berechnete Spielplan ausgegeben. \n",
    "Du brauchst diesen Zwischenschritt nicht für die EduChallenge, aber es ist eine hilfreiche Selbstkontrolle, ob du das Prinzip verstanden und die Spielregeln richtig eingetragen hast."
   ]
  },
  {
   "cell_type": "code",
   "execution_count": null,
   "metadata": {},
   "outputs": [],
   "source": [
    "##### ##### Trage hier die RAND- und ANFANGSWERTE ein, mit der du die Simulation durchführen möchtest ##### ##\n",
    "\n",
    "# RANDWERTE:\n",
    "N   = eintragen  # Anzahl an Runden, die simuliert werden sollen\n",
    "dt  = eintragen  # Zeitschritt zwischen zwei \"Runden\" oder \"Dauer einer Runde\" in der Einheit Sekunden\n",
    "g   = eintragen  # Erdbeschleunigung in der Einheit  m/s^2 \n",
    "a_x = eintragen  # Beschleunigung in x-Richtung in der Einheit  m/s^2 \n",
    "a_y = eintragen  # Beschleunigung in y-Richtung in der Einheit  m/s^2 \n",
    "\n",
    "# ANFANGSWERTE:\n",
    "# Zunächst kannst du dazu die geschätzten Anfangswerte aus der Videoanalyse nehmen (s. hierüber).\n",
    "# Später kannst du sie ändern, um deine Simulation ggf. besser an deine beobachteten Daten anzupassen.\n",
    "\n",
    "a_x_0 = eintragen   # Beschleunigung in x-Richtung, Einheit m/s^2\n",
    "v_x_0 = eintragen   # Geschwindigkeit des Balls in x-Richtung am Anfang, Einheit: m/s\n",
    "x_0   = eintragen   # Ort des Balls in x-Richtung am Anfang, Einheit: m\n",
    "\n",
    "a_y_0 = eintragen   # Beschleunigung in y-Richtung, Einheit m/s^2\n",
    "v_y_0 = eintragen   # Geschwindigkeit des Balls in y-Richtung am Anfang, Einheit: m/s\n",
    "y_0   = eintragen   # Ort des Balls in y-Richtung am Anfang, Einheit: m\n",
    "##### ##### ##### ##### ##### ##### ##### ##### ##### ##### ##### ##### ##### ##### ##### ##### \n",
    "\n",
    "# Lasse die folgende Variable \"Nr\" zunächst bei \"1\". \n",
    "# Wenn du später weitere Simulationen machst, ändere den Wert, um deine vorherigen Simulationen nicht zu überschreiben.\n",
    "Nr = 1\n",
    "\n",
    "# Hier legen wir Tabellen (\"arrays\") für die simulierten Werte an und schreiben die Anfangswerte bereits hinein:\n",
    "from libECMB3 import *\n",
    "a_x_array, v_x_array, x_array, a_y_array, v_y_array, y_array = tabellen_fuer_simulationsswerte_anlegen(N, x_0, y_0, v_x_0, v_y_0, a_x, a_y)\n",
    "\n",
    "print(\"Rand- und Anfangswerte eingetragen.\")"
   ]
  },
  {
   "cell_type": "markdown",
   "metadata": {},
   "source": [
    "Nun geht es zur eigentlichen numerischen Simulation. In dieser Abkürzung ist diese schon fertig für dich vorbereitet. Führe die folgende Zelle aus, um die Simulation mit deinen Anfangswerten auszuführen. "
   ]
  },
  {
   "cell_type": "code",
   "execution_count": null,
   "metadata": {},
   "outputs": [],
   "source": [
    "for r in range(1, N, 1): # Diese Schleife läuft über alle \"Runden\" der Simulation\n",
    "    \n",
    "    # Einlesen der \"alten\" Werte (aus der vorherigen Runde) aus der Tabelle:\n",
    "    a_x_alt, v_x_alt, x_alt, a_y_alt, v_y_alt, y_alt = a_x_array[r-1], v_x_array[r-1], x_array[r-1], a_y_array[r-1], v_y_array[r-1], y_array[r-1]\n",
    "    \n",
    "    # Der Spielzug, in dem die Werte der neuen Runde nach den Spielregeln berechnet werden:\n",
    "    a_x_neu = a_x_alt\n",
    "    v_x_neu = v_x_alt + a_x_alt*dt\n",
    "    x_neu = x_alt + v_x_alt*dt\n",
    "\n",
    "    a_y_neu = a_y_alt\n",
    "    v_y_neu = v_y_alt + a_y_alt * dt\n",
    "    y_neu = y_alt + v_y_alt * dt\n",
    "    \n",
    "    # Und nun schreiben wir die neuen Werte in die Tabelle an der Stelle der Runde \"r\" (hier nichts ändern):\n",
    "    a_x_array[r] = a_x_neu\n",
    "    v_x_array[r] = v_x_neu\n",
    "    x_array[r]   = x_neu\n",
    "    \n",
    "    a_y_array[r] = a_y_neu\n",
    "    v_y_array[r] = v_y_neu\n",
    "    y_array[r]   = y_neu\n",
    "    \n",
    "# nun ist unser Spiel = unsere Simulation schon fertig! \n",
    "print(\"Die Simulation ist fertig.\")\n",
    "\n",
    "# Wir schauen uns die Werte einmal an und speichern sie gleichzeitig:\n",
    "df_sim = zeige_und_speichere_simulierte_werte(a_x_array, v_x_array, x_array, a_y_array, v_y_array, y_array, Nr)"
   ]
  },
  {
   "cell_type": "markdown",
   "metadata": {},
   "source": [
    "Führe nun die folgende Zelle aus und speichere die erzeugten Dateien über die Downloadbuttons. Falls du an einem anderen Tag weiterarbeitest, kannst du dann mit diesen Dateien weiterarbeiten. "
   ]
  },
  {
   "cell_type": "code",
   "execution_count": null,
   "metadata": {},
   "outputs": [],
   "source": [
    "# Download der Grafik und Tabelle mit den simulierten Werten:\n",
    "Download_Simulationsdateien(Nr)"
   ]
  },
  {
   "cell_type": "markdown",
   "metadata": {},
   "source": [
    "Kehre nun wieder zu PreCampus zurück."
   ]
  }
 ],
 "metadata": {
  "kernelspec": {
   "display_name": "Python 3 (ipykernel)",
   "language": "python",
   "name": "python3"
  },
  "language_info": {
   "codemirror_mode": {
    "name": "ipython",
    "version": 3
   },
   "file_extension": ".py",
   "mimetype": "text/x-python",
   "name": "python",
   "nbconvert_exporter": "python",
   "pygments_lexer": "ipython3",
   "version": "3.10.9"
  }
 },
 "nbformat": 4,
 "nbformat_minor": 2
}
