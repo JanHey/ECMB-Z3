{
 "cells": [
  {
   "cell_type": "markdown",
   "metadata": {},
   "source": [
    "# Meilenstein 6: die Simulation\n",
    "\n",
    "In diesem Abschnitt simulierst du die Wurfbewegung. Hier nutzt du das Modell, das wir dir in dem Erklärvideo vorgestellt haben."
   ]
  },
  {
   "cell_type": "markdown",
   "metadata": {},
   "source": [
    "### Vorbereitungen"
   ]
  },
  {
   "cell_type": "code",
   "execution_count": null,
   "metadata": {},
   "outputs": [],
   "source": [
    "# Führe diese Zelle aus. Damit lädst du eine Reihe von Funktionen, die du später brauchst.\n",
    "from libECMB3 import *"
   ]
  },
  {
   "cell_type": "markdown",
   "metadata": {},
   "source": [
    "Falls du diesen Abschnitt an einem anderen Tag bearbeitest als die Videosimulation, führe die folgende Zelle aus und lade die beiden Dateien mit Daten (Videoanalyse_Positionen.xlsx, Videoanalyse_Parameter.xlsx), die du am Ende der Videosimulation lokal gespeichert hast, über den Uploadbutton hierunter hoch. Falls du gerade eben die Videoanalyse durchgeführt hast, ist das nicht nötig, weil die Dateien dann noch auf dem Server liegen. "
   ]
  },
  {
   "cell_type": "code",
   "execution_count": null,
   "metadata": {},
   "outputs": [],
   "source": [
    "Dateiuploadbutton()"
   ]
  },
  {
   "cell_type": "code",
   "execution_count": null,
   "metadata": {},
   "outputs": [],
   "source": [
    "# Führe diese Zelle aus, um die Werte aus der Videoanalyse aus den Sicherungsdateien zu laden.\n",
    "x, y, zeitpunkte, B, H, b, h, fps, delta_t, N, N_Bilder, x_0, y_0, v_x0, v_y0 = werte_wiederherstellen()"
   ]
  },
  {
   "cell_type": "markdown",
   "metadata": {},
   "source": [
    "### Nun geht es los\n",
    "\n",
    "In der folgenden Codezelle legst du die Rand- und Anfangswerte für deine Simulation fest. Ersetze dazu alle Stellen **\"[Eintragen]\"** mit dem entsprechenden **Wert**. Beispiel:\n",
    "\n",
    "In der Zeile \n",
    "\n",
    "`g = [Eintragen]  # Erdbeschleunigung in der Einheit  m/s^2`\n",
    "\n",
    "sollte stehen: \n",
    "    \n",
    "`g = 9.81  # Erdbeschleunigung in der Einheit  m/s^2`\n",
    "\n",
    "Falls du gerade ein wiederholtes Mal eine Simulation ausführst, erhöhe den Wert von \"Nr\", um deine früheren Ergebnisse nicht zu überschreiben. Führe dann die Zelle aus, um die Simulation zu starten."
   ]
  },
  {
   "cell_type": "code",
   "execution_count": null,
   "metadata": {},
   "outputs": [],
   "source": [
    "##### ##### Trage hier die RAND- und ANFANGSWERTE ein, mit der du die Simulation durchführen möchtest ##### ##\n",
    "\n",
    "# RANDWERTE:\n",
    "dt  = 1. / fps # Ändere diese Zeile nicht! Mit dieser Definition passen später dein aufgenommenes und simuliertes Video zusammen.\n",
    "g   = [Eintragen]  # Erdbeschleunigung in der Einheit  m/s^2 \n",
    "a_x = [Eintragen]  # Beschleunigung in x-Richtung in der Einheit  m/s^2 \n",
    "a_y = [Eintragen]  # Beschleunigung in y-Richtung in der Einheit  m/s^2 \n",
    "\n",
    "# ANFANGSWERTE:\n",
    "# Zunächst kannst du dazu die geschätzten Anfangswerte aus der Videoanalyse nehmen (s. hierüber).\n",
    "# Später kannst du sie ändern, um deine Simulation ggf. besser an deine beobachteten Daten anzupassen.\n",
    "\n",
    "# Hinweis: Wenn du möchtest, kannst du hier auch die Anfangs- und Randwerte werte aus dem Beispiel eingeben, für das du Werte von Hand berechnet hast. \n",
    "#          Dann wird in der nächsten Codezelle der von dir im Beispiel berechnete Spielplan ausgegeben.   \n",
    "a_x_0 = [Eintragen]     # Beschleunigung in x-Richtung, Einheit m/s^2\n",
    "v_x_0 = [Eintragen]    # Geschwindigkeit des Balls in x-Richtung am Anfang, Einheit: m/s\n",
    "x_0   = [Eintragen]    # Ort des Balls in x-Richtung am Anfang, Einheit: m\n",
    "\n",
    "a_y_0 = [Eintragen]    # Beschleunigung in y-Richtung, Einheit m/s^2\n",
    "v_y_0 = [Eintragen]   # Geschwindigkeit des Balls in y-Richtung am Anfang, Einheit: m/s\n",
    "y_0   = [Eintragen]   # Ort des Balls in y-Richtung am Anfang, Einheit: m\n",
    "##### ##### ##### ##### ##### ##### ##### ##### ##### ##### ##### ##### ##### ##### ##### ##### \n",
    "\n",
    "# Lasse die folgende Variable \"Nr\" zunächst bei \"1\". \n",
    "# Wenn du später weitere Simulationen machst, ändere den Wert, um deine vorherigen Simulationen nicht zu überschreiben.\n",
    "Nr = 1\n",
    "\n",
    "# Hier legen wir Tabellen (\"arrays\") für die simulierten Werte an und schreiben die Anfangswerte bereits hinein:\n",
    "a_x_array, v_x_array, x_array, a_y_array, v_y_array, y_array = tabellen_fuer_simulationsswerte_anlegen(N, x_0, y_0, v_x_0, v_y_0, a_x, a_y)\n",
    "\n",
    "print(\"Rand- und Anfangswerte eingetragen.\")"
   ]
  },
  {
   "cell_type": "markdown",
   "metadata": {},
   "source": [
    "Nun geht es zur eigentlichen numerischen Simulation. Dabei werden in jeder Runde die Werte für Ort (`x`, `y`), Geschwindigkeit (`v_x`, `v_y`) und Beschleunigung (`a_x`, `a_y`) nach den von dir eingetragenen Spielregeln berechnet. \n",
    "\n",
    "Trage dazu nun an der markierten Stelle die Spielregeln ein, die du bereits im Laborbuch erarbeitet hast."
   ]
  },
  {
   "cell_type": "code",
   "execution_count": null,
   "metadata": {},
   "outputs": [],
   "source": [
    "for r in range(1, N, 1): # Diese Schleife läuft über alle \"Runden\" der Simulation\n",
    "    \n",
    "    # Einlesen der \"alten\" Werte (aus der vorherigen Runde) aus der Tabelle:\n",
    "    a_x_alt, v_x_alt, x_alt, a_y_alt, v_y_alt, y_alt = a_x_array[r-1], v_x_array[r-1], x_array[r-1], a_y_array[r-1], v_y_array[r-1], y_array[r-1]\n",
    "    \n",
    "    # Der Spielzug, in dem wie Werte der neuen Runde nach den Spielregeln berechnet werden:\n",
    "    \n",
    "    ##### ##### Trage in den nächsten Zeilen die SPIELREGELN für die Simulation einer Wurfbewegung ein. ######\n",
    "    a_x_neu = [Eintragen]\n",
    "    v_x_neu = [Eintragen]\n",
    "    x_neu = [Eintragen]\n",
    "\n",
    "    a_y_neu = [Eintragen]\n",
    "    v_y_neu = [Eintragen]\n",
    "    y_neu = [Eintragen]\n",
    "    ##### ##### ##### ##### ##### ##### ##### ##### ##### ##### ##### ##### ##### ##### ##### ##### ##### #####\n",
    "    \n",
    "    \n",
    "    # Und nun schreiben wir die neuen Werte in die Tabelle an der Stelle der Runde \"r\" (hier nichts ändern):\n",
    "    a_x_array[r] = a_x_neu\n",
    "    v_x_array[r] = v_x_neu\n",
    "    x_array[r]   = x_neu\n",
    "    \n",
    "    a_y_array[r] = a_y_neu\n",
    "    v_y_array[r] = v_y_neu\n",
    "    y_array[r]   = y_neu\n",
    "    \n",
    "# nun ist unser Spiel = unsere Simulation schon fertig! \n",
    "print(\"Die Simulation ist fertig.\")\n",
    "\n",
    "# Wir schauen uns die Werte einmal an und speichern sie gleichzeitig:\n",
    "df_sim = zeige_und_speichere_simulierte_werte(a_x_array, v_x_array, x_array, a_y_array, v_y_array, y_array, Nr)"
   ]
  },
  {
   "cell_type": "markdown",
   "metadata": {},
   "source": [
    "Führe nun die folgende Zelle aus und speichere die erzeugten Dateien über die Downloadbuttons. Falls du an einem anderen Tag weiterarbeitest, kannst du dann mit diesen Dateien weiterarbeiten. "
   ]
  },
  {
   "cell_type": "code",
   "execution_count": null,
   "metadata": {},
   "outputs": [],
   "source": [
    "# Download der Grafik und Tabelle mit den simulierten Werten:\n",
    "Download_Simulationsdateien(Nr)"
   ]
  },
  {
   "cell_type": "markdown",
   "metadata": {},
   "source": [
    "Kehre nun wieder zu PreCampus zurück."
   ]
  }
 ],
 "metadata": {
  "kernelspec": {
   "display_name": "Python 3 (ipykernel)",
   "language": "python",
   "name": "python3"
  },
  "language_info": {
   "codemirror_mode": {
    "name": "ipython",
    "version": 3
   },
   "file_extension": ".py",
   "mimetype": "text/x-python",
   "name": "python",
   "nbconvert_exporter": "python",
   "pygments_lexer": "ipython3",
   "version": "3.10.9"
  }
 },
 "nbformat": 4,
 "nbformat_minor": 2
}
